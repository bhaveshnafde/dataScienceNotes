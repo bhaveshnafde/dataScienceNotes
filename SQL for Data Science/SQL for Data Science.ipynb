{
 "cells": [
  {
   "cell_type": "markdown",
   "metadata": {},
   "source": [
    "# SQL FOR DATA SCIENCE"
   ]
  },
  {
   "cell_type": "markdown",
   "metadata": {},
   "source": [
    "## what is a database?\n",
    "it is a repository for data.provides the functionality of querying, modifying and adding data.  \n",
    "when data is stored in tabilar form its called relational database."
   ]
  },
  {
   "cell_type": "markdown",
   "metadata": {},
   "source": [
    "## What is SQL?\n",
    "Standard Query Language is used for relational databases. to query the data."
   ]
  },
  {
   "cell_type": "markdown",
   "metadata": {},
   "source": [
    "### what are some basic SQL commands?\n",
    "**DDL-**\n",
    "* CREATE\n",
    "* DROP\n",
    "* RENAME\n",
    "* ALTER\n",
    "\n",
    "\n",
    "\n",
    "\n",
    "**DML -**\n",
    "* INSERT  \n",
    "* SELECT  \n",
    "* UPDATE  \n",
    "* DELETE  "
   ]
  },
  {
   "cell_type": "markdown",
   "metadata": {},
   "source": [
    "#### CREATE\n",
    "**CREATE TABLE table_name{col_name TYPE(SIZE),);**    \n",
    "* NOT NULL is used if we dont want that coulumn should contain null values.  \n",
    "* PRIMARY KEY(colname) is used to make a column as primary key, in order to avoid duplicate values"
   ]
  },
  {
   "cell_type": "markdown",
   "metadata": {},
   "source": [
    "#### DROP\n",
    "**DROP TABLE tablename;**"
   ]
  },
  {
   "cell_type": "markdown",
   "metadata": {},
   "source": [
    "#### SELECT\n",
    "**SELECT col_name FROM tablename;**  \n",
    "returns a resultset conatining all rows of column col_name  \n",
    "**SELECT * FROM tablename;**  \n",
    "returns a resultset conatining the entire table.  \n",
    "**SELECT * FROM tablename WHERE col_name = \"00\";**  \n",
    "returns a resultset containing all attributed where col_name is 00."
   ]
  },
  {
   "cell_type": "markdown",
   "metadata": {},
   "source": [
    "#### COUNT()\n",
    "**SELECT COUNT(country) FROM countries WHERE country=\"India\";**  \n",
    "a built in function that retrives the number of rows matching the query criterion."
   ]
  },
  {
   "cell_type": "markdown",
   "metadata": {},
   "source": [
    "#### DISTINCT\n",
    "**SELECT DISTINCT columnname FROM tablename;**  \n",
    "used to retrieve unique values from the table"
   ]
  },
  {
   "cell_type": "markdown",
   "metadata": {},
   "source": [
    "#### LIMIT\n",
    "**SELECT * FROM tablename LIMIT 10;**  \n",
    "restricts no. of rows retrieved from the databae."
   ]
  },
  {
   "cell_type": "markdown",
   "metadata": {},
   "source": [
    "#### INSERT\n",
    "**INSERT INTO tablename(col1, col2) VALUES(\"oo\",00),(\"11\",11);**  \n",
    "we can insert one or multiple rows in a table using a single SQL statement."
   ]
  },
  {
   "cell_type": "markdown",
   "metadata": {},
   "source": [
    "#### UPDATE\n",
    "**UPDATE tablename col_1=00 WHERE col_2=\"ab\"**  \n",
    "if we dont include WHERE clause all rows will be updated."
   ]
  },
  {
   "cell_type": "markdown",
   "metadata": {},
   "source": [
    "#### DELETE\n",
    "**DELETE FROM tablename WHERE col_1=00;**  \n",
    "IN(to, from) can be used for range it is inclusive of to, from."
   ]
  },
  {
   "cell_type": "markdown",
   "metadata": {},
   "source": [
    "#### STRING PATTERS\n",
    "**SELECT firstname FROM author WHERE firstname LIKE 'R%';**"
   ]
  },
  {
   "cell_type": "markdown",
   "metadata": {},
   "source": [
    "#### RANGE\n",
    "**SELECT * FROM books WHERE pages BETWEEN 200 AND 300;**  \n",
    "**SELECT * FROM author WHERE country IN('EU','IN');**"
   ]
  },
  {
   "cell_type": "markdown",
   "metadata": {},
   "source": [
    "#### ORDER BY\n",
    "**SELECT * FROM students ORDER BY marks;**  \n",
    "by default the resultset is ordered in ascending order, to order in descending order we use-  \n",
    "**SELECT * FROM students ORDER BY marks DESC;**"
   ]
  },
  {
   "cell_type": "markdown",
   "metadata": {},
   "source": [
    "#### GROUP BY\n",
    "**SELECT country, COUNT(country) as count_country FROM author GROUP BY country;**  \n",
    "having clause can be used with only group by  \n",
    "**SELECT country, COUNT(country) as count_country FROM author GROUP BY country having COUNT(country) > 4;**"
   ]
  },
  {
   "cell_type": "code",
   "execution_count": null,
   "metadata": {},
   "outputs": [],
   "source": []
  }
 ],
 "metadata": {
  "kernelspec": {
   "display_name": "Python 3",
   "language": "python",
   "name": "python3"
  },
  "language_info": {
   "codemirror_mode": {
    "name": "ipython",
    "version": 3
   },
   "file_extension": ".py",
   "mimetype": "text/x-python",
   "name": "python",
   "nbconvert_exporter": "python",
   "pygments_lexer": "ipython3",
   "version": "3.6.8"
  }
 },
 "nbformat": 4,
 "nbformat_minor": 4
}
